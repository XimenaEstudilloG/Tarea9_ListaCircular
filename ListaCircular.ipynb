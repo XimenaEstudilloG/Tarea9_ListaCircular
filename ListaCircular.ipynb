{
  "nbformat": 4,
  "nbformat_minor": 0,
  "metadata": {
    "colab": {
      "name": "ListaCircular.ipynb",
      "provenance": [],
      "collapsed_sections": []
    },
    "kernelspec": {
      "name": "python3",
      "display_name": "Python 3"
    },
    "language_info": {
      "name": "python"
    }
  },
  "cells": [
    {
      "cell_type": "code",
      "metadata": {
        "id": "a61XvWFkm4Bu"
      },
      "source": [
        "class Nodo:\n",
        "    def __init__( self , value , siguiente = None ):\n",
        "        self.data = value\n",
        "        self.next = siguiente"
      ],
      "execution_count": 2,
      "outputs": []
    },
    {
      "cell_type": "code",
      "metadata": {
        "id": "U0KIOHlAnO7T"
      },
      "source": [
        "class CircularList:\n",
        "    def __init__( self ):\n",
        "        self.ref = None\n",
        "\n",
        "    def is_empty( self ):\n",
        "        return self.ref == None\n",
        "  \n",
        "    def insert( self , value ):\n",
        "        if self.is_empty():\n",
        "            self.ref = Nodo(value)\n",
        "            self.ref.next = self.ref\n",
        "        elif self.search(value):\n",
        "            print(\"El valor ingresado ya existe en la lista, intenta con otro\")\n",
        "        else:\n",
        "            if value > self.ref.data:\n",
        "                curr_node = self.ref\n",
        "                while curr_node.next != self.ref:\n",
        "                    curr_node = curr_node.next\n",
        "                self.ref = Nodo(value, curr_node.next.next)\n",
        "                curr_node.next.next = self.ref\n",
        "            else:\n",
        "                curr_node = self.ref\n",
        "                while value > curr_node.next.data:\n",
        "                    curr_node = curr_node.next\n",
        "                curr_node.next = Nodo(value,curr_node.next)  \n",
        "\n",
        "    def transversal( self ):\n",
        "        curr_node = self.ref\n",
        "        if curr_node == self.ref and curr_node != None:\n",
        "            print(f\"| {curr_node.data} | -->\", end = \"\")\n",
        "            curr_node = curr_node.next\n",
        "        while curr_node != self.ref:\n",
        "            print(f\"| {curr_node.data} | -->\", end = \"\")\n",
        "            curr_node = curr_node.next\n",
        "            print(\"\")\n",
        "\n",
        "    def search( self , value ):\n",
        "        existe = False\n",
        "        curr_node = self.ref\n",
        "        while curr_node.next.data != self.ref.data:\n",
        "            if curr_node.next.data == value:\n",
        "                existe = True\n",
        "            curr_node = curr_node.next\n",
        "            if curr_node.next.data == self.ref.data and curr_node.next.data == value:\n",
        "                existe == True\n",
        "            return existe\n",
        "\n",
        "    def remove( self , value ):\n",
        "        if self.ref.next == self.ref:\n",
        "            self.ref = None\n",
        "        elif value == self.ref.data:\n",
        "            curr_node = self.ref\n",
        "            while curr_node.next != self.ref:\n",
        "                curr_node = curr_node.next\n",
        "            curr_node.next = self.ref.next\n",
        "            self.ref = curr_node\n",
        "        else:\n",
        "            curr_node = self.ref\n",
        "        while curr_node.next.data != value:\n",
        "            curr_node = curr_node.next\n",
        "        curr_node.next = curr_node.next.next"
      ],
      "execution_count": 17,
      "outputs": []
    },
    {
      "cell_type": "code",
      "metadata": {
        "colab": {
          "base_uri": "https://localhost:8080/"
        },
        "id": "NZMazMTynfvC",
        "outputId": "2b4bec6a-9f55-4ac5-8c30-b02e5adb7e09"
      },
      "source": [
        "cl = CircularList()\n",
        "if cl.is_empty():\n",
        "  print(\"La lista esta vacia\")\n",
        "else:\n",
        "  print(\"La lista no esta vacia\")\n",
        "\n",
        "cl.insert(10)\n",
        "\n",
        "cl.transversal()\n",
        "\n",
        "cl.insert(400)\n",
        "cl.insert(50)\n",
        "cl.insert(20)\n",
        "cl.insert(30)\n",
        "cl.insert(25)\n",
        "cl.insert(48)\n",
        "cl.insert(62)\n",
        "cl.insert(3)\n",
        "cl.insert(22)\n",
        "cl.transversal()\n",
        "cl.insert(20)\n",
        "\n",
        "cl.remove(20)\n",
        "cl.transversal()\n",
        "\n",
        "cl.insert(50)"
      ],
      "execution_count": 16,
      "outputs": [
        {
          "output_type": "stream",
          "name": "stdout",
          "text": [
            "La lista esta vacia\n",
            "| 10 | -->| 400 | -->| 3 | -->\n",
            "| 10 | -->\n",
            "| 20 | -->\n",
            "| 22 | -->\n",
            "| 25 | -->\n",
            "| 30 | -->\n",
            "| 48 | -->\n",
            "| 50 | -->\n",
            "| 62 | -->\n",
            "| 400 | -->| 3 | -->\n",
            "| 10 | -->\n",
            "| 20 | -->\n",
            "| 22 | -->\n",
            "| 25 | -->\n",
            "| 30 | -->\n",
            "| 48 | -->\n",
            "| 50 | -->\n",
            "| 62 | -->\n"
          ]
        }
      ]
    }
  ]
}